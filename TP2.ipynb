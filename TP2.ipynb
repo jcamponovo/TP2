{
 "cells": [
  {
   "cell_type": "markdown",
   "metadata": {},
   "source": [
    "# TP2 - Caractéristique d'un dipôle\n",
    "\n",
    "<b style=\"color:red;\">Avant de commencer, cliquez sur le bouton \"Sans Confiance\"</b> \n",
    "<center><img src=\"./trust.png\"></center>\n",
    "<p>\n",
    "<br></p>\n",
    "<b style=\"color:red;\">puis sur le bouton rouge \"Faire Confiance\" pour autoriser l'exécution des scripts de la page</b>\n",
    "<center><img src=\"./trust2.png\"></center>\n",
    "\n",
    "<h2>Travail demandé:</h2>\n",
    "\n",
    "<ol><li> Inscrire vos réponses, programmes, images dans les blocs réponse prévus pour construire votre compte rendu</li>\n",
    "<li> Vous pouvez tester et/ou modifier les différents morceaux de code proposés</li>\n",
    "<li> Sauvegardez régulièrement votre travail. Attention, la sauvegarde se fait dans un espace temporaire et le fichier sera perdu au bout de quelques heures. </li>\n",
    "<li> Téléchargez votre fichier au <b>format Notebook</b> si vous souhaitez pouvoir le <b>modifier plus tard</b>. Téléchargez le au <b> format html</b> si vous souhaitez simplement une <b>trace écrite</b> ou pour le rendre au professeur.</li></ol>"
   ]
  },
  {
   "cell_type": "code",
   "execution_count": 1,
   "metadata": {},
   "outputs": [
    {
     "data": {
      "text/html": [
       "<script>\n",
       "code_show=true; \n",
       "function code_toggle() {\n",
       "  if (code_show) {\n",
       "    $('div.input').each(function(id) {\n",
       "      el = $(this).find('.cm-variable:first');\n",
       "      if (id == 0 || el.text() == 'hide_toggle') {\n",
       "        $(this).hide();\n",
       "        $(this).parent().next().find('div.input').hide();\n",
       "        $(this).parent().next().find('div.output').hide();\n",
       "       \n",
       "      }\n",
       "    });\n",
       "\n",
       "    $('div.output_prompt').css('opacity', 0);\n",
       "  } else {\n",
       "    $('div.input').each(function(id) {\n",
       "    if (id == 0 ){\n",
       "      $(this).show();\n",
       "            $(this).parent().next().find('div.input').show();\n",
       "        $(this).parent().next().find('div.output').show();\n",
       "    }\n",
       "    });\n",
       "    $('div.output_prompt').css('opacity', 1);\n",
       "  \n",
       "  }\n",
       "  code_show = !code_show\n",
       "} \n",
       "\n",
       "$( document ).ready(code_toggle);\n",
       "</script>"
      ],
      "text/plain": [
       "<IPython.core.display.HTML object>"
      ]
     },
     "execution_count": 1,
     "metadata": {},
     "output_type": "execute_result"
    }
   ],
   "source": [
    "# This is a cell to hide code snippets from displaying\n",
    "# This must be at first cell!\n",
    "\n",
    "from IPython.display import HTML\n",
    "\n",
    "hide_me = ''\n",
    "HTML('''<script>\n",
    "code_show=true; \n",
    "function code_toggle() {\n",
    "  if (code_show) {\n",
    "    $('div.input').each(function(id) {\n",
    "      el = $(this).find('.cm-variable:first');\n",
    "      if (id == 0 || el.text() == 'hide_toggle') {\n",
    "        $(this).hide();\n",
    "        $(this).parent().next().find('div.input').hide();\n",
    "        $(this).parent().next().find('div.output').hide();\n",
    "       \n",
    "      }\n",
    "    });\n",
    "\n",
    "    $('div.output_prompt').css('opacity', 0);\n",
    "  } else {\n",
    "    $('div.input').each(function(id) {\n",
    "    if (id == 0 ){\n",
    "      $(this).show();\n",
    "            $(this).parent().next().find('div.input').show();\n",
    "        $(this).parent().next().find('div.output').show();\n",
    "    }\n",
    "    });\n",
    "    $('div.output_prompt').css('opacity', 1);\n",
    "  \n",
    "  }\n",
    "  code_show = !code_show\n",
    "} \n",
    "\n",
    "$( document ).ready(code_toggle);\n",
    "</script>''')\n",
    "#<form action=\"javascript:code_toggle()\"><input style=\"opacity:0\" type=\"submit\" value=\"Click here to toggle on/off the raw code.\"></form>''')"
   ]
  },
  {
   "cell_type": "code",
   "execution_count": 2,
   "metadata": {},
   "outputs": [],
   "source": [
    "# fonction pour cacher une cellule\n",
    "# à exécuter une fois au début pour la mettre en mémoire\n",
    "\n",
    "from IPython.display import HTML\n",
    "import random\n",
    "\n",
    "\n",
    "\n",
    "def hide_toggle(for_next=True,texte=\"Montrer/cacher\"):\n",
    "    this_cell = \"\"\"$('div.cell.code_cell.rendered.selected')\"\"\"\n",
    "    next_cell = this_cell + '.next()'\n",
    "  \n",
    "\n",
    "    toggle_text = texte  # text shown on toggle link\n",
    "    target_cell = this_cell  # target cell to control with toggle\n",
    "    js_hide_current = ''  # bit of JS to permanently hide code in current cell (only when toggling next cell)\n",
    "\n",
    "    if for_next:\n",
    "        target_cell = next_cell\n",
    "        js_hide_current = this_cell + '.find(\"div.input\").hide();'+this_cell+ '.find(\"div.output\").hide();'\n",
    "\n",
    "    js_f_name = f'code_toggle_{random.randint(1,2**64)}'\n",
    "\n",
    "    html = \"\"\"\n",
    "        <script>\n",
    "            function {f_name}() {{\n",
    "                {cell_selector}.find('div.input').toggle();\n",
    "                {cell_selector}.find('div.output').toggle();\n",
    "                {this_cell}.find('div.input').hide();\n",
    "\n",
    "            }}\n",
    "             $('div.prompt').hide();\n",
    "        </script>\n",
    "\n",
    "        <form action=\"javascript:{f_name}()\"><input type=\"submit\" id=\"toggleButton\" value={toggle_text}></form>\n",
    "    \"\"\".format(\n",
    "        f_name=js_f_name,\n",
    "        cell_selector=target_cell,\n",
    "        js_hide_current=js_hide_current, \n",
    "        toggle_text=toggle_text,\n",
    "        this_cell=this_cell\n",
    "    )\n",
    "    \n",
    "\n",
    "    return HTML(html)\n",
    "\n",
    "\n"
   ]
  },
  {
   "cell_type": "code",
   "execution_count": 3,
   "metadata": {},
   "outputs": [
    {
     "data": {
      "text/html": [
       "\n",
       "        <script>\n",
       "            function code_toggle_3641071558375020831() {\n",
       "                $('div.cell.code_cell.rendered.selected').next().find('div.input').toggle();\n",
       "                $('div.cell.code_cell.rendered.selected').next().find('div.output').toggle();\n",
       "                $('div.cell.code_cell.rendered.selected').find('div.input').hide();\n",
       "\n",
       "            }\n",
       "             $('div.prompt').hide();\n",
       "        </script>\n",
       "\n",
       "        <form action=\"javascript:code_toggle_3641071558375020831()\"><input type=\"submit\" id=\"toggleButton\" value=Montrer/cacher></form>\n",
       "    "
      ],
      "text/plain": [
       "<IPython.core.display.HTML object>"
      ]
     },
     "execution_count": 3,
     "metadata": {},
     "output_type": "execute_result"
    }
   ],
   "source": [
    "hide_toggle()"
   ]
  },
  {
   "cell_type": "code",
   "execution_count": 4,
   "metadata": {},
   "outputs": [
    {
     "name": "stdout",
     "output_type": "stream",
     "text": [
      "Requirement already satisfied: matplotlib in /home/camponovo/.local/lib/python3.7/site-packages (2.2.2)\n",
      "Requirement already satisfied: kiwisolver>=1.0.1 in /usr/local/lib/python3.7/dist-packages (from matplotlib) (1.0.1)\n",
      "Requirement already satisfied: python-dateutil>=2.1 in /usr/local/lib/python3.7/dist-packages (from matplotlib) (2.7.5)\n",
      "Requirement already satisfied: numpy>=1.7.1 in /usr/lib/python3/dist-packages (from matplotlib) (1.16.2)\n",
      "Requirement already satisfied: pyparsing!=2.0.4,!=2.1.2,!=2.1.6,>=2.0.1 in /usr/local/lib/python3.7/dist-packages (from matplotlib) (2.3.0)\n",
      "Requirement already satisfied: pytz in /home/camponovo/.local/lib/python3.7/site-packages (from matplotlib) (2019.1)\n",
      "Requirement already satisfied: six>=1.10 in /usr/lib/python3/dist-packages (from matplotlib) (1.12.0)\n",
      "Requirement already satisfied: cycler>=0.10 in /usr/local/lib/python3.7/dist-packages (from matplotlib) (0.10.0)\n",
      "Requirement already satisfied: setuptools in /usr/lib/python3/dist-packages (from kiwisolver>=1.0.1->matplotlib) (40.8.0)\n",
      "Requirement already satisfied: scipy in /usr/lib/python3/dist-packages (1.1.0)\n"
     ]
    }
   ],
   "source": [
    "# Installation des bibliothèques à exécuter une fois au début\n",
    "!pip install matplotlib\n",
    "!pip install scipy\n"
   ]
  },
  {
   "cell_type": "markdown",
   "metadata": {},
   "source": [
    "<h3>Matériel :</h3>\n",
    "<ul><li>Arduino nano</li>\n",
    "    <li>Breadboard</li>\n",
    "    <li>Fils</li>\n",
    "    <li>2 Résistances $4{,}7\\ k\\Omega$</li>\n",
    "    <li>1 Résistance $10\\ \\Omega$</li>\n",
    "    <li>1 Résistance $220\\ \\Omega$</li>\n",
    "    <li>1 potentiomètre $10 k\\Omega$</li>\n",
    "    <li>1 LED</li>\n",
    "    <li>1 pile 1,5 V</li>\n",
    "    <li>1 support de pile</li>\n",
    "    <li>Ordinateur</li></ul>\n",
    "    <br>\n",
    "<h3>Logiciels :</h3>\n",
    "<ul><li>Navigateur web type Mozilla firefox</li>\n",
    "    <li>IDE Arduino</li></ul>\n",
    "    <br>"
   ]
  },
  {
   "cell_type": "code",
   "execution_count": 5,
   "metadata": {},
   "outputs": [],
   "source": [
    "# imports à exécuter une fois au début\n",
    "from math import log\n",
    "from scipy.optimize import curve_fit\n",
    "import matplotlib.pyplot as plt"
   ]
  },
  {
   "cell_type": "markdown",
   "metadata": {},
   "source": [
    "# Sujet\n",
    "\n",
    "<p>Nous souhaitons tracer la caractéristique U = f(I) de trois dipôles, une résistance, une LED et une pile. Nous étudierons également l’association de 2 résistances en série et en parallèle pour voir comment l’association se comporte.\n",
    "Pour cela, nous allons utiliser une carte Arduino. Cependant, elle ne peut mesurer que des tensions. Nous utiliserons donc une résistance de valeur connue pour déterminer la valeur de l’intensité. Ainsi, la loi d’ohm est supposée connue en début de TP puisque nous l’utilisons -et le tracé de la caractéristique pour une seule résistance n’a donc pas d’autre intérêt que de s’entraîner à manipuler les outils-.\n",
    "\n",
    "Le potentiomètre va lui servir à modifier l’intensité qui traverse le dipôle étudié et à ainsi obtenir plusieurs points.\n",
    "\n",
    "Pour étudier la caractéristique U = f(I) d’une résistance, réalisez le montage de la<b> figure 1</b> sans brancher la carte à l’ordinateur. On utilise un potentiomètre de $10\\ k\\Omega$, monté en série avec le dipôle étudié (ici une résistance R<sub>1</sub> donnée pour $4{,}7\\ k\\Omega$) et une résistance R<sub>2</sub> connue (ici R<sub>2</sub> = $220\\ \\Omega$).</p>\n",
    "<br>\n",
    "<p><center><b>Figure 1. Montage à réaliser</b>\n",
    "<img src=\"./TP2_figure1.png\"></center></p>\n",
    "<br>\n",
    "Cela correspond au schéma électrique suivant:\n",
    "<center><b>Figure 2. Schéma électrique équivalent</b>\n",
    "<img src=\"./TP2_figure2.png\"></center>"
   ]
  },
  {
   "cell_type": "markdown",
   "metadata": {},
   "source": [
    "<b>1°)</b> Quelle relation y a-t-il entre <b>U<sub>0</sub>, U<sub>1</sub>, U<sub>2</sub> et U<sub>3</sub></b> d'après la loi des mailles ?"
   ]
  },
  {
   "cell_type": "raw",
   "metadata": {},
   "source": [
    ":kug!k\n",
    "\n"
   ]
  },
  {
   "cell_type": "markdown",
   "metadata": {},
   "source": [
    "<b>2°)</b> Que peut-on dire de l'intensité <b>I</b> qui traverse <b>R<sub>1</sub></b>, de celle qui traverse <b>R<sub>2</sub></b>et de celle qui traverse <b>R<sub>3</sub></b>."
   ]
  },
  {
   "cell_type": "raw",
   "metadata": {},
   "source": [
    "\n",
    "\n"
   ]
  },
  {
   "cell_type": "markdown",
   "metadata": {},
   "source": [
    "<b>3°)</b> Quelle relation y-a-t-il entre la tension <b>U<sub>3</sub></b>, la résistance <b>R<sub>3</sub></b> et l'intensité <b>I</b> ?"
   ]
  },
  {
   "cell_type": "raw",
   "metadata": {},
   "source": [
    "\n",
    "\n"
   ]
  },
  {
   "cell_type": "markdown",
   "metadata": {},
   "source": [
    "<b>4°)</b> Même question pour <b>U<sub>1</sub>, R<sub>1</sub> et I </b>."
   ]
  },
  {
   "cell_type": "raw",
   "metadata": {},
   "source": [
    "\n",
    "\n"
   ]
  },
  {
   "cell_type": "markdown",
   "metadata": {},
   "source": [
    "<p>Le montage réalisé sur la carte Arduino nous permet de mesurer (U2 + U3) sur une entrée analogique et U3 sur une deuxième entrée analogique. On connaît R3 et ce qui nous intéresse ici est la valeur de U2 et celle de I. </p>\n",
    "<p>Les tensions sont mesurées par le convertisseur analogique numérique de la carte Arduino qui numérise une tension entre 0 et 5V sur 10 bits. C’est à dire que la carte nous renvoie une valeur entière entre 0 et 2<sup>10</sup> – 1 ; 0 pour une tension de 0V et 1023 pour une tension de 5V.</p>\n",
    "<br>\n",
    "<b>5°)</b> Quelle est la tension mesurée lorsque <b>la carte Arduino renvoie 534 ?</b>"
   ]
  },
  {
   "cell_type": "raw",
   "metadata": {},
   "source": [
    "\n",
    "\n"
   ]
  },
  {
   "cell_type": "markdown",
   "metadata": {},
   "source": [
    "<b>6°)</b> Si on note <b>n3</b> la valeur entière renvoyée par la carte Arduino pour la <b>mesure de U<sub>3</sub> et n2</b> la valeur entière renvoyée par la carte pour la mesure de <b>(U2 + U3)</b>, exprimer la valeur de la tension <b>U2</b> mesurée."
   ]
  },
  {
   "cell_type": "raw",
   "metadata": {},
   "source": [
    "\n",
    "\n"
   ]
  },
  {
   "cell_type": "markdown",
   "metadata": {},
   "source": [
    "<b>7°)</b> Exprimer <b>la valeur de I</b> en fonction de <b>n3 et R3</b>"
   ]
  },
  {
   "cell_type": "raw",
   "metadata": {},
   "source": [
    "\n",
    "\n"
   ]
  },
  {
   "cell_type": "markdown",
   "metadata": {},
   "source": [
    "<b>8°)</b> Complétez le programme Arduino <a href=\"./caracteristique.ino\" target=\"_blank\">caracteristique.ino</a> fourni pour qu'il renvoie la valeur de la tension <b>U2</b> (en V) aux bornes du dipôle étudié et la valeur de <b>I</b> (en mA) sur une même ligne environ <b>deux fois par seconde</b>."
   ]
  },
  {
   "cell_type": "markdown",
   "metadata": {},
   "source": [
    "<a href=\"./caracteristique_cor.ino\" target=\"_blank\">correction</a>"
   ]
  },
  {
   "cell_type": "markdown",
   "metadata": {},
   "source": [
    "<p>Réalisez le montage de la <b>figure 1.</b>, faites vérifier votre montage et votre programme puis téléverser le programme vers la carte Arduino (attention de bien régler <b style=\"color:red;\">le type de carte, le port et le processeur)</b></p>\n",
    "<p>Nous allons maintenant réaliser des mesures de tension U2 (en V) aux bornes du dipôle et d’intensité I (en mA) qui traverse ce dipôle. Pour cela, ouvrir le <b>moniteur série</b> du logiciel Arduino. Réglez le débit binaire à la même valeur que dans votre programme arduino (115200 ici). Vous pouvez alors lire et noter les valeurs de la tension U2 aux bornes du dipôle et de l’intensité I qui le traverse sur une même ligne. En modifiant le réglage du potentiomètre, vous modifiez ces valeurs et pouvez faire un autre relevé.</p>"
   ]
  },
  {
   "cell_type": "markdown",
   "metadata": {},
   "source": [
    "<b>9°)</b> Réalisez 5 mesures de couples U, I dans le cas de ce dipôle et <b style=\"color:red;\">stockez les dans des listes python.</b>"
   ]
  },
  {
   "cell_type": "code",
   "execution_count": 6,
   "metadata": {},
   "outputs": [],
   "source": [
    "U = [] #rentrer ici les valeurs de tension mesurée en V\n",
    "I = [] #et ici les intensités correspondantes en mA"
   ]
  },
  {
   "cell_type": "markdown",
   "metadata": {},
   "source": [
    "<b>10°)</b> Ecrire ci-dessous <b style=\"color:red;\">un programme python</b> permettant de tracer le graphique représentant <b>U2 en fonction de I</b> pour vos mesures.\n",
    "<p>Vous pourrez utiliser <a href=\"./methode_courbe.ipynb\" target=\"_blank\">la fiche méthode fournie</a>.</p>"
   ]
  },
  {
   "cell_type": "code",
   "execution_count": null,
   "metadata": {},
   "outputs": [],
   "source": [
    "\n",
    "\n"
   ]
  },
  {
   "cell_type": "code",
   "execution_count": 7,
   "metadata": {},
   "outputs": [
    {
     "data": {
      "text/html": [
       "\n",
       "        <script>\n",
       "            function code_toggle_1818843316425205937() {\n",
       "                $('div.cell.code_cell.rendered.selected').next().find('div.input').toggle();\n",
       "                $('div.cell.code_cell.rendered.selected').next().find('div.output').toggle();\n",
       "                $('div.cell.code_cell.rendered.selected').find('div.input').hide();\n",
       "\n",
       "            }\n",
       "             $('div.prompt').hide();\n",
       "        </script>\n",
       "\n",
       "        <form action=\"javascript:code_toggle_1818843316425205937()\"><input type=\"submit\" id=\"toggleButton\" value=Correction></form>\n",
       "    "
      ],
      "text/plain": [
       "<IPython.core.display.HTML object>"
      ]
     },
     "execution_count": 7,
     "metadata": {},
     "output_type": "execute_result"
    }
   ],
   "source": [
    "hide_toggle(texte=\"Correction\")"
   ]
  },
  {
   "cell_type": "code",
   "execution_count": 29,
   "metadata": {},
   "outputs": [
    {
     "data": {
      "image/png": "[encoded data removed]",
      "text/plain": [
       "<Figure size 432x288 with 1 Axes>"
      ]
     },
     "metadata": {
      "needs_background": "light"
     },
     "output_type": "display_data"
    }
   ],
   "source": [
    "U=[0.,3.92,3.17,2.48,1.94,1.67]\n",
    "I=[0.,0.83e-3,0.67e-3,0.52e-3,0.41e-3,0.35e-3]\n",
    "\n",
    "plt.plot(I,U,\"+\")\n",
    "\n",
    "plt.xlabel(\"Intensité I (A)\")\n",
    "plt.ylabel(\"Tension U2 (V)\")\n",
    "plt.title(\"Caractéristique tension-courant d'une résistance\")\n",
    "plt.show()"
   ]
  },
  {
   "cell_type": "markdown",
   "metadata": {},
   "source": [
    "<b>11°)</b> Ecrire ci-dessous <b style=\"color:red;\">un programme python</b> permettant de modéliser cette série de données par une fonction linéaire et d'afficher <b>sur un même graphique les points expérimentaux, le modèle et son équation.</b> "
   ]
  },
  {
   "cell_type": "code",
   "execution_count": null,
   "metadata": {},
   "outputs": [],
   "source": [
    "\n",
    "\n"
   ]
  },
  {
   "cell_type": "code",
   "execution_count": 9,
   "metadata": {},
   "outputs": [
    {
     "data": {
      "text/html": [
       "\n",
       "        <script>\n",
       "            function code_toggle_5904052874977707765() {\n",
       "                $('div.cell.code_cell.rendered.selected').next().find('div.input').toggle();\n",
       "                $('div.cell.code_cell.rendered.selected').next().find('div.output').toggle();\n",
       "                $('div.cell.code_cell.rendered.selected').find('div.input').hide();\n",
       "\n",
       "            }\n",
       "             $('div.prompt').hide();\n",
       "        </script>\n",
       "\n",
       "        <form action=\"javascript:code_toggle_5904052874977707765()\"><input type=\"submit\" id=\"toggleButton\" value=Correction></form>\n",
       "    "
      ],
      "text/plain": [
       "<IPython.core.display.HTML object>"
      ]
     },
     "execution_count": 9,
     "metadata": {},
     "output_type": "execute_result"
    }
   ],
   "source": [
    "hide_toggle(texte=\"Correction\")"
   ]
  },
  {
   "cell_type": "code",
   "execution_count": 10,
   "metadata": {},
   "outputs": [
    {
     "data": {
      "image/png": "[encoded data removed]",
      "text/plain": [
       "<Figure size 432x288 with 1 Axes>"
      ]
     },
     "metadata": {
      "needs_background": "light"
     },
     "output_type": "display_data"
    }
   ],
   "source": [
    "plt.plot(I,U,\"+\")\n",
    "\n",
    "def lineaire(x,a):\n",
    "    return a*x\n",
    "    \n",
    "params,cov = curve_fit(lineaire,I,U)\n",
    "\n",
    "modele=[]\n",
    "x=[0]+I\n",
    "for i in x:\n",
    "    modele.append(lineaire(i,*params))\n",
    "plt.plot(x,modele,label=\"U = {:.3f} x I\".format(*params))\n",
    "\n",
    "plt.legend()\n",
    "plt.xlabel(\"Intensité I (A)\")\n",
    "plt.ylabel(\"Tension U2 (V)\")\n",
    "plt.title(\"Caractéristique tension-courant d'une résistance\")\n",
    "plt.show()"
   ]
  },
  {
   "cell_type": "markdown",
   "metadata": {},
   "source": [
    "<b>12°)</b> La valeur indiquée de la résistance est-elle en accord avec l'équation du modèle ?"
   ]
  },
  {
   "cell_type": "raw",
   "metadata": {},
   "source": [
    "\n",
    "\n"
   ]
  },
  {
   "cell_type": "markdown",
   "metadata": {},
   "source": [
    "<b>13°)</b> Débranchez la carte Arduino de l'ordinateur. Modifiez le montage pour étudier deux résistances de $4{,}7\\ k\\Omega$ montées en dérivation, et modifiez si besoin le programme Arduino en conséquence. Faites vérifier votre montage et votre programme puis téléversez le programme vers la carte Arduino. Attention de bien régler <b style=\"color:red;\">le type de carte, le port et le processeur</b>."
   ]
  },
  {
   "cell_type": "code",
   "execution_count": 11,
   "metadata": {},
   "outputs": [
    {
     "data": {
      "text/html": [
       "\n",
       "        <script>\n",
       "            function code_toggle_15658066457011707385() {\n",
       "                $('div.cell.code_cell.rendered.selected').next().find('div.input').toggle();\n",
       "                $('div.cell.code_cell.rendered.selected').next().find('div.output').toggle();\n",
       "                $('div.cell.code_cell.rendered.selected').find('div.input').hide();\n",
       "\n",
       "            }\n",
       "             $('div.prompt').hide();\n",
       "        </script>\n",
       "\n",
       "        <form action=\"javascript:code_toggle_15658066457011707385()\"><input type=\"submit\" id=\"toggleButton\" value=Montage></form>\n",
       "    "
      ],
      "text/plain": [
       "<IPython.core.display.HTML object>"
      ]
     },
     "execution_count": 11,
     "metadata": {},
     "output_type": "execute_result"
    }
   ],
   "source": [
    "hide_toggle(texte=\"Montage\")"
   ]
  },
  {
   "cell_type": "code",
   "execution_count": 12,
   "metadata": {
    "scrolled": true
   },
   "outputs": [
    {
     "data": {
      "image/png": "[encoded data removed]",
      "text/plain": [
       "<Figure size 432x288 with 1 Axes>"
      ]
     },
     "metadata": {},
     "output_type": "display_data"
    }
   ],
   "source": [
    "im=plt.imread(\"./TP2_figure2.png\")\n",
    "plt.xticks([])\n",
    "plt.yticks([])\n",
    "plt.xlim([0,930])\n",
    "plt.ylim([500,0])\n",
    "plt.title(\"Figure 2. Montage à réaliser\")\n",
    "plt.imshow(im)\n",
    "plt.show()"
   ]
  },
  {
   "cell_type": "markdown",
   "metadata": {},
   "source": [
    "<b>14°)</b> Réalisez 5 mesures de couples U, I dans le cas de cette association de dipôles et <b style=\"color:red;\">stockez les dans des listes python.</b>"
   ]
  },
  {
   "cell_type": "code",
   "execution_count": 13,
   "metadata": {},
   "outputs": [],
   "source": [
    "U = [] #rentrer ici les valeurs de tension mesurée en V\n",
    "I = [] #et ici les intensités correspondantes en mA"
   ]
  },
  {
   "cell_type": "markdown",
   "metadata": {},
   "source": [
    "<p><b>15°)</b> Ecrire ci-dessous <b style=\"color:red;\">un programme python</b> permettant de tracer le graphique représentant <b>U en fonction de I</b> pour vos mesures. Vous prendrez soin de mettre un titre, et des informations sur les deux axes.</p>\n",
    "<p>Vous pourrez utiliser <a href=\"./methode_courbe.ipynb\" target=\"_blank\">la fiche méthode fournie</a>.</p>"
   ]
  },
  {
   "cell_type": "code",
   "execution_count": null,
   "metadata": {},
   "outputs": [],
   "source": [
    "\n",
    "\n"
   ]
  },
  {
   "cell_type": "code",
   "execution_count": 14,
   "metadata": {},
   "outputs": [
    {
     "data": {
      "text/html": [
       "\n",
       "        <script>\n",
       "            function code_toggle_10188023919815442882() {\n",
       "                $('div.cell.code_cell.rendered.selected').next().find('div.input').toggle();\n",
       "                $('div.cell.code_cell.rendered.selected').next().find('div.output').toggle();\n",
       "                $('div.cell.code_cell.rendered.selected').find('div.input').hide();\n",
       "\n",
       "            }\n",
       "             $('div.prompt').hide();\n",
       "        </script>\n",
       "\n",
       "        <form action=\"javascript:code_toggle_10188023919815442882()\"><input type=\"submit\" id=\"toggleButton\" value=Correction></form>\n",
       "    "
      ],
      "text/plain": [
       "<IPython.core.display.HTML object>"
      ]
     },
     "execution_count": 14,
     "metadata": {},
     "output_type": "execute_result"
    }
   ],
   "source": [
    "hide_toggle(texte=\"Correction\")"
   ]
  },
  {
   "cell_type": "code",
   "execution_count": 15,
   "metadata": {},
   "outputs": [
    {
     "data": {
      "image/png": "[encoded data removed]",
      "text/plain": [
       "<Figure size 432x288 with 1 Axes>"
      ]
     },
     "metadata": {
      "needs_background": "light"
     },
     "output_type": "display_data"
    }
   ],
   "source": [
    "#On utilise le même programme qu'à la qurestion 10 avec les nouvelles valeurs\n",
    "U=[0.,4.44,3.59,2.10,1.55]\n",
    "I=[0.,1.87e-3,1.51e-3,0.87e-3,0.64e-3]\n",
    "\n",
    "plt.plot(I,U,\"+\")\n",
    "plt.xticks([0.,0.5e-3,1.e-3,1.5e-3,2.e-3])\n",
    "plt.xlabel(\"Intensité I (A)\")\n",
    "plt.ylabel(\"Tension U2 (V)\")\n",
    "plt.title(\"Caractéristique tension-courant d'une association de résistances\")\n",
    "plt.show()"
   ]
  },
  {
   "cell_type": "markdown",
   "metadata": {},
   "source": [
    "<b>16°)</b> Ecrire ci-dessous <b style=\"color:red;\">un programme python</b> permettant de modéliser cette série de données par une fonction mathématique qui vous paraîtra adaptée et d'afficher <b>sur un même graphique les points expérimentaux, le modèle et son équation.</b> "
   ]
  },
  {
   "cell_type": "code",
   "execution_count": null,
   "metadata": {},
   "outputs": [],
   "source": [
    "\n",
    "\n"
   ]
  },
  {
   "cell_type": "code",
   "execution_count": 16,
   "metadata": {},
   "outputs": [
    {
     "data": {
      "text/html": [
       "\n",
       "        <script>\n",
       "            function code_toggle_11067753504417067641() {\n",
       "                $('div.cell.code_cell.rendered.selected').next().find('div.input').toggle();\n",
       "                $('div.cell.code_cell.rendered.selected').next().find('div.output').toggle();\n",
       "                $('div.cell.code_cell.rendered.selected').find('div.input').hide();\n",
       "\n",
       "            }\n",
       "             $('div.prompt').hide();\n",
       "        </script>\n",
       "\n",
       "        <form action=\"javascript:code_toggle_11067753504417067641()\"><input type=\"submit\" id=\"toggleButton\" value=Correction></form>\n",
       "    "
      ],
      "text/plain": [
       "<IPython.core.display.HTML object>"
      ]
     },
     "execution_count": 16,
     "metadata": {},
     "output_type": "execute_result"
    }
   ],
   "source": [
    "hide_toggle(texte=\"Correction\")"
   ]
  },
  {
   "cell_type": "code",
   "execution_count": 17,
   "metadata": {},
   "outputs": [
    {
     "data": {
      "image/png": "[encoded data removed]",
      "text/plain": [
       "<Figure size 432x288 with 1 Axes>"
      ]
     },
     "metadata": {
      "needs_background": "light"
     },
     "output_type": "display_data"
    }
   ],
   "source": [
    "#On utilise le même programme qu'à la qurestion 11 avec les nouvelles valeurs\n",
    "#Les points semblent alignés et la droite passer par zéro, on utilise donc un modèle linéaire.\n",
    "\n",
    "plt.plot(I,U,\"+\")\n",
    "\n",
    "def lineaire(x,a):\n",
    "    return a*x\n",
    "    \n",
    "params,cov = curve_fit(lineaire,I,U)\n",
    "\n",
    "modele=[]\n",
    "x=[0]+I\n",
    "for i in x:\n",
    "    modele.append(lineaire(i,*params))\n",
    "plt.plot(x,modele,label=\"U = {:.3f} x I\".format(*params))\n",
    "\n",
    "plt.legend()\n",
    "plt.xlabel(\"Intensité I (A)\")\n",
    "plt.ylabel(\"Tension U2 (V)\")\n",
    "plt.title(\"Caractéristique tension-courant d'une association de résistances\")\n",
    "plt.show()"
   ]
  },
  {
   "cell_type": "markdown",
   "metadata": {},
   "source": [
    "<p><b>17°)</b>L’association de résistances se comporte-t-elle comme une résistance ?</p>\n",
    "<p>Si oui, quelle est la valeur de la résistance équivalente ?</p>"
   ]
  },
  {
   "cell_type": "raw",
   "metadata": {},
   "source": [
    "\n",
    "\n"
   ]
  },
  {
   "cell_type": "markdown",
   "metadata": {},
   "source": [
    "<b>18°)</b> Réalisez la même étude dans le cas d'une association de deux résistances de $4{,}7\\ k\\Omega$ montées en série. Vous pourrez écrire ci-dessous <b style=\"color:red;\">les programmes python nécessaires.</b>"
   ]
  },
  {
   "cell_type": "code",
   "execution_count": null,
   "metadata": {},
   "outputs": [],
   "source": [
    "\n",
    "\n"
   ]
  },
  {
   "cell_type": "code",
   "execution_count": 18,
   "metadata": {},
   "outputs": [
    {
     "data": {
      "text/html": [
       "\n",
       "        <script>\n",
       "            function code_toggle_6715208216408193396() {\n",
       "                $('div.cell.code_cell.rendered.selected').next().find('div.input').toggle();\n",
       "                $('div.cell.code_cell.rendered.selected').next().find('div.output').toggle();\n",
       "                $('div.cell.code_cell.rendered.selected').find('div.input').hide();\n",
       "\n",
       "            }\n",
       "             $('div.prompt').hide();\n",
       "        </script>\n",
       "\n",
       "        <form action=\"javascript:code_toggle_6715208216408193396()\"><input type=\"submit\" id=\"toggleButton\" value=Montage></form>\n",
       "    "
      ],
      "text/plain": [
       "<IPython.core.display.HTML object>"
      ]
     },
     "execution_count": 18,
     "metadata": {},
     "output_type": "execute_result"
    }
   ],
   "source": [
    "hide_toggle(texte=\"Montage\")"
   ]
  },
  {
   "cell_type": "code",
   "execution_count": 19,
   "metadata": {},
   "outputs": [
    {
     "data": {
      "image/png": "[encoded data removed]",
      "text/plain": [
       "<Figure size 432x288 with 1 Axes>"
      ]
     },
     "metadata": {},
     "output_type": "display_data"
    }
   ],
   "source": [
    "#Afficher le montage à réaliser\n",
    "im=plt.imread(\"./TP2_figure3.png\")\n",
    "plt.xticks([])\n",
    "plt.yticks([])\n",
    "plt.title(\"Figure 3. Montage à réaliser\")\n",
    "plt.xlim([0,1050])\n",
    "plt.ylim([500,0])\n",
    "plt.imshow(im)\n",
    "plt.show()"
   ]
  },
  {
   "cell_type": "code",
   "execution_count": 20,
   "metadata": {},
   "outputs": [
    {
     "data": {
      "text/html": [
       "\n",
       "        <script>\n",
       "            function code_toggle_10366719292069422929() {\n",
       "                $('div.cell.code_cell.rendered.selected').next().find('div.input').toggle();\n",
       "                $('div.cell.code_cell.rendered.selected').next().find('div.output').toggle();\n",
       "                $('div.cell.code_cell.rendered.selected').find('div.input').hide();\n",
       "\n",
       "            }\n",
       "             $('div.prompt').hide();\n",
       "        </script>\n",
       "\n",
       "        <form action=\"javascript:code_toggle_10366719292069422929()\"><input type=\"submit\" id=\"toggleButton\" value=Correction></form>\n",
       "    "
      ],
      "text/plain": [
       "<IPython.core.display.HTML object>"
      ]
     },
     "execution_count": 20,
     "metadata": {},
     "output_type": "execute_result"
    }
   ],
   "source": [
    "hide_toggle(texte=\"Correction\")"
   ]
  },
  {
   "cell_type": "code",
   "execution_count": 21,
   "metadata": {},
   "outputs": [
    {
     "data": {
      "image/png": "[encoded data removed]",
      "text/plain": [
       "<Figure size 432x288 with 1 Axes>"
      ]
     },
     "metadata": {
      "needs_background": "light"
     },
     "output_type": "display_data"
    },
    {
     "data": {
      "image/png": "[encoded data removed]",
      "text/plain": [
       "<Figure size 432x288 with 1 Axes>"
      ]
     },
     "metadata": {
      "needs_background": "light"
     },
     "output_type": "display_data"
    }
   ],
   "source": [
    "#Les programmes sont les mêmes que pour la question 11 avec les nouvelles données\n",
    "\n",
    "#En utilisant une résistance de 220 ohms pour mesurer I\n",
    "U=[0.,2.3,2.95,3.50,3.78,4.08,4.79]\n",
    "I=[0.,0.2e-3,0.27e-3,0.33e-3,0.38e-3,0.4e-3,0.47e-3]\n",
    "\n",
    "plt.plot(I,U,\"+\")\n",
    "\n",
    "def lineaire(x,a):\n",
    "    return a*x\n",
    "    \n",
    "params,cov = curve_fit(lineaire,I,U)\n",
    "\n",
    "modele=[]\n",
    "x=[0]+I\n",
    "for i in x:\n",
    "    modele.append(lineaire(i,*params))\n",
    "plt.plot(x,modele,label=\"U = {:.3f} x I\".format(*params))\n",
    "\n",
    "plt.legend()\n",
    "plt.xlabel(\"Intensité I (A)\")\n",
    "plt.ylabel(\"Tension U2 (V)\")\n",
    "plt.title(\"Caractéristique tension-courant d'une association de résistance\\nRésistance de 220 ohms pour mesurer I\")\n",
    "plt.show()\n",
    "\n",
    "#En utilisant une résistance de 1000 ohms pour mesurer I on est plus précis\n",
    "U=[0.,2.2,2.44,2.72,3.24,3.86,4.52]\n",
    "I=[0.,0.22e-3,0.25e-3,0.28e-3,0.34e-3,0.40e-3,0.47e-3]\n",
    "\n",
    "plt.plot(I,U,\"+\")\n",
    "\n",
    "def lineaire(x,a):\n",
    "    return a*x\n",
    "    \n",
    "params,cov = curve_fit(lineaire,I,U)\n",
    "\n",
    "modele=[]\n",
    "x=[0]+I\n",
    "for i in x:\n",
    "    modele.append(lineaire(i,*params))\n",
    "plt.plot(x,modele,label=\"U = {:.3f} x I\".format(*params))\n",
    "\n",
    "plt.legend()\n",
    "plt.xlabel(\"Intensité I (A)\")\n",
    "plt.ylabel(\"Tension U2 (V)\")\n",
    "plt.title(\"Caractéristique tension-courant d'une association de résistance\\nRésistance de 1000 ohms pour mesurer I\")\n",
    "plt.show()"
   ]
  },
  {
   "cell_type": "markdown",
   "metadata": {},
   "source": [
    "<b>19°)</b> Réalisez la même étude dans le cas d'une LED en utilisant le montage de la figure 4. ci-dessous. Vous pourrez écrire ci-dessous <b style=\"color:red;\">les programmes python nécessaires.</b>\n",
    "<p><center><b>Figure 4. Montage à Réaliser</b>\n",
    "    <img src=\"./TP2_figure4.png\"></center></p>"
   ]
  },
  {
   "cell_type": "code",
   "execution_count": null,
   "metadata": {},
   "outputs": [],
   "source": [
    "\n",
    "\n"
   ]
  },
  {
   "cell_type": "code",
   "execution_count": 22,
   "metadata": {},
   "outputs": [
    {
     "data": {
      "text/html": [
       "\n",
       "        <script>\n",
       "            function code_toggle_14098418082614507569() {\n",
       "                $('div.cell.code_cell.rendered.selected').next().find('div.input').toggle();\n",
       "                $('div.cell.code_cell.rendered.selected').next().find('div.output').toggle();\n",
       "                $('div.cell.code_cell.rendered.selected').find('div.input').hide();\n",
       "\n",
       "            }\n",
       "             $('div.prompt').hide();\n",
       "        </script>\n",
       "\n",
       "        <form action=\"javascript:code_toggle_14098418082614507569()\"><input type=\"submit\" id=\"toggleButton\" value=Montrer/cacher></form>\n",
       "    "
      ],
      "text/plain": [
       "<IPython.core.display.HTML object>"
      ]
     },
     "execution_count": 22,
     "metadata": {},
     "output_type": "execute_result"
    }
   ],
   "source": [
    "hide_toggle(\"Correction\")"
   ]
  },
  {
   "cell_type": "code",
   "execution_count": 23,
   "metadata": {},
   "outputs": [
    {
     "data": {
      "image/png": "[encoded data removed]",
      "text/plain": [
       "<Figure size 432x288 with 1 Axes>"
      ]
     },
     "metadata": {
      "needs_background": "light"
     },
     "output_type": "display_data"
    }
   ],
   "source": [
    "#Caractéristique LED\n",
    "#Ici les points semblent alignés mais la droite ne passe pas par zéro donc on utilise un modèle affine.\n",
    "U = [2.02,1.87,1.93,1.97]\n",
    "I = [12.43e-3,1.91e-3,4.40e-3,7.07e-3]\n",
    "\n",
    "plt.plot(I,U,\"+\")\n",
    "\n",
    "def affine(x,a,b):\n",
    "    return a*x + b\n",
    "    \n",
    "params,cov = curve_fit(affine,I,U)\n",
    "\n",
    "modele=[]\n",
    "x=[0]+I\n",
    "for i in x:\n",
    "    modele.append(affine(i,*params))\n",
    "plt.plot(x,modele,label=\"U = {:.3f}*I + {:.3f}\".format(*params))\n",
    "\n",
    "plt.legend()\n",
    "plt.xlabel(\"Intensité I (A)\")\n",
    "plt.ylabel(\"Tension U2 (V)\")\n",
    "plt.title(\"Caractéristique tension-courant d'une LED\")\n",
    "plt.ylim([0.,2.7])\n",
    "plt.show()"
   ]
  },
  {
   "cell_type": "markdown",
   "metadata": {},
   "source": [
    "<b>19°)</b> Réalisez la même étude dans le cas d'une pile AA de 1,5V en utilisant le montage de la figure 5. ci-dessous. La résistance à utiliser est celle de $10\\ \\Omega$. Vous pourrez écrire ci-dessous <b style=\"color:red;\">les programmes python nécessaires.</b>\n",
    "<p><center><b>Figure 5. Montage à Réaliser</b>\n",
    "    <img src=\"./TP2_figure5.png\"></center></p>"
   ]
  },
  {
   "cell_type": "code",
   "execution_count": null,
   "metadata": {},
   "outputs": [],
   "source": [
    "\n",
    "\n"
   ]
  },
  {
   "cell_type": "code",
   "execution_count": 24,
   "metadata": {},
   "outputs": [
    {
     "data": {
      "text/html": [
       "\n",
       "        <script>\n",
       "            function code_toggle_10290049904788484436() {\n",
       "                $('div.cell.code_cell.rendered.selected').next().find('div.input').toggle();\n",
       "                $('div.cell.code_cell.rendered.selected').next().find('div.output').toggle();\n",
       "                $('div.cell.code_cell.rendered.selected').find('div.input').hide();\n",
       "\n",
       "            }\n",
       "             $('div.prompt').hide();\n",
       "        </script>\n",
       "\n",
       "        <form action=\"javascript:code_toggle_10290049904788484436()\"><input type=\"submit\" id=\"toggleButton\" value=Correction></form>\n",
       "    "
      ],
      "text/plain": [
       "<IPython.core.display.HTML object>"
      ]
     },
     "execution_count": 24,
     "metadata": {},
     "output_type": "execute_result"
    }
   ],
   "source": [
    "hide_toggle(texte=\"Correction\")"
   ]
  },
  {
   "cell_type": "code",
   "execution_count": 25,
   "metadata": {},
   "outputs": [
    {
     "data": {
      "image/png": "[encoded data removed]",
      "text/plain": [
       "<Figure size 432x288 with 1 Axes>"
      ]
     },
     "metadata": {
      "needs_background": "light"
     },
     "output_type": "display_data"
    }
   ],
   "source": [
    "#Etude d'une Pile AA 1.5V\n",
    "U = [1.52,1.52,1.51,1.50,1.48,1.45]\n",
    "I = [0.24e-3,0.98e-3,6.29e-3,25e-3,53.8e-3,86.5e-3]\n",
    "\n",
    "plt.plot(I,U,\"+\")\n",
    "\n",
    "def affine(x,a,b):\n",
    "    return a*x + b\n",
    "    \n",
    "params,cov = curve_fit(affine,I,U)\n",
    "\n",
    "modele=[]\n",
    "x=[0]+I\n",
    "for i in x:\n",
    "    modele.append(affine(i,*params))\n",
    "plt.plot(x,modele,label=\"U = {:.3f}*I + {:.3f}\".format(*params))\n",
    "\n",
    "plt.legend()\n",
    "plt.xlabel(\"Intensité I (A)\")\n",
    "plt.ylabel(\"Tension U2 (V)\")\n",
    "plt.title(\"Caractéristique tension-courant d'un Générateur\")\n",
    "plt.ylim([0.,2.7])\n",
    "plt.show()"
   ]
  },
  {
   "cell_type": "code",
   "execution_count": 26,
   "metadata": {},
   "outputs": [
    {
     "data": {
      "text/html": [
       "\n",
       "        <script>\n",
       "            function code_toggle_4935758223498561230() {\n",
       "                $('div.cell.code_cell.rendered.selected').next().find('div.input').toggle();\n",
       "                $('div.cell.code_cell.rendered.selected').next().find('div.output').toggle();\n",
       "                $('div.cell.code_cell.rendered.selected').find('div.input').hide();\n",
       "\n",
       "            }\n",
       "             $('div.prompt').hide();\n",
       "        </script>\n",
       "\n",
       "        <form action=\"javascript:code_toggle_4935758223498561230()\"><input type=\"submit\" id=\"toggleButton\" value=Pour_aller_plus_loin></form>\n",
       "    "
      ],
      "text/plain": [
       "<IPython.core.display.HTML object>"
      ]
     },
     "execution_count": 26,
     "metadata": {},
     "output_type": "execute_result"
    }
   ],
   "source": [
    "hide_toggle(texte=\"Pour_aller_plus_loin\")"
   ]
  },
  {
   "cell_type": "code",
   "execution_count": 27,
   "metadata": {},
   "outputs": [
    {
     "data": {
      "image/png": "[encoded data removed]",
      "text/plain": [
       "<Figure size 432x288 with 1 Axes>"
      ]
     },
     "metadata": {
      "needs_background": "light"
     },
     "output_type": "display_data"
    },
    {
     "data": {
      "image/png": "[encoded data removed]",
      "text/plain": [
       "<Figure size 432x288 with 1 Axes>"
      ]
     },
     "metadata": {
      "needs_background": "light"
     },
     "output_type": "display_data"
    },
    {
     "data": {
      "image/png": "[encoded data removed]",
      "text/plain": [
       "<Figure size 432x288 with 1 Axes>"
      ]
     },
     "metadata": {
      "needs_background": "light"
     },
     "output_type": "display_data"
    }
   ],
   "source": [
    "#Modélisation d'un point de fonctionnement\n",
    "\n",
    "#1°) Modélisation d'une lampe à filament\n",
    "Ul = [0,0.25,0.88,1.72,2.16,2.72,3.76,4.72,5.28,6.08,6.64,7.48,7.88,8.51,9.2]\n",
    "Il = [0, 0.018, 0.035, 0.051, 0.058, 0.066, 0.080, 0.089, 0.095, 0.103, 0.108, 0.115, 0.119, 0.124, 0.129]\n",
    "\n",
    "plt.plot(Il,Ul,\"+\")\n",
    "\n",
    "def parabole(x,a,b):\n",
    "    return a*x**2 + b*x\n",
    "    \n",
    "pLampe,cov = curve_fit(parabole,Il,Ul)\n",
    "modele1=[0.]\n",
    "dx = 0.005\n",
    "x1 = [0.]\n",
    "while x1[-1] <= 0.130:\n",
    "    x1.append(x1[-1]+dx)\n",
    "    modele1.append(parabole(x1[-1],*pLampe))\n",
    "plt.plot(x1,modele1,label=\"U = {:.3f}*I**2 + {:.3f}*I\".format(*pLampe))\n",
    "plt.legend()\n",
    "plt.ylim([0.,9.5])\n",
    "plt.title(\"Modèle d'une lampe à filament\")\n",
    "plt.show()\n",
    "\n",
    "\n",
    "\n",
    "#2°) Modélisation d'une pile 4.5V\n",
    "Up = [4.49, 4.49, 4.48, 4.46,4.46,4.46,4.45,4.44,4.39,4.37,4.35,4.34]\n",
    "Ip = [0.0018, 0.0026, 0.0034, 0.0051, 0.010, 0.0121, 0.0146, 0.0172, 0.0383, 0.0487, 0.0545, 0.0594]\n",
    "\n",
    "plt.plot(Ip,Up,\"+\")\n",
    "\n",
    "def affine(x,a,b):\n",
    "    return a*x + b\n",
    "    \n",
    "pPile,cov = curve_fit(affine,Ip,Up)\n",
    "modele2=[]\n",
    "dx = 0.005\n",
    "x2 = [0.]\n",
    "while x2[-1] <= 0.130:\n",
    "    modele2.append(affine(x2[-1],*pPile))\n",
    "    x2.append(x2[-1]+dx)\n",
    "x2 = x2[:-1]\n",
    "plt.plot(x2,modele2,label=\"U = {:.3f}*I + {:.3f}\".format(*pPile))\n",
    "plt.legend()\n",
    "plt.ylim([0.,9.5])\n",
    "plt.title(\"Modèle d'une Pile 4,5V\")\n",
    "plt.show()\n",
    "\n",
    "\n",
    "\n",
    "#3°) Les deux ensemble + calcul du point de fonctionnement\n",
    "#On utilise les deux modèles précédents et on cherche où les courbes se coupent.\n",
    "\n",
    "#On démarre à i = 0 et on augmente i progressivement par pas de di jusqu'à ce que les deux modèles soient à moins de 1mV l'un de l'autre.\n",
    "i = 0.\n",
    "di = 0.00001\n",
    "while abs(affine(i,*pPile)-parabole(i,*pLampe))>1e-3:\n",
    "    i+=di\n",
    "\n",
    "#On affiche la courbe de la pile\n",
    "plt.plot(x2,modele2,label=\"Pile: U = {:.3f}*I + {:.3f}\".format(*pPile),color=\"#00FF00\")\n",
    "plt.plot(Ip,Up,\"+\",color=\"green\")\n",
    "\n",
    "#On affiche la courbe de la lampe\n",
    "plt.plot(x1,modele1,color=\"cyan\",label=\"Lampe: U = {:.3f}*I**2 + {:.3f}*I\".format(*pLampe))\n",
    "plt.plot(Il,Ul,\"+\",color=\"blue\")\n",
    "\n",
    "#On affiche le point de fonctionnement calculé\n",
    "plt.plot(i,affine(i,*pPile),\"o\",color=\"red\",label=\"Point de fonctionement: U = {:.2f}V et I = {:.2f} mA\".format(affine(i,*pPile),1000*i))\n",
    "\n",
    "plt.legend()\n",
    "plt.ylim([0.,9.5])\n",
    "plt.xlim([0.,0.130])\n",
    "plt.xlabel(\"Intensité I (A)\")\n",
    "plt.ylabel(\"Tension U (V)\")\n",
    "plt.title(\"Point de fonctionnement\")\n",
    "plt.show()"
   ]
  }
 ],
 "metadata": {
  "celltoolbar": "Format de la Cellule Texte Brut",
  "kernelspec": {
   "display_name": "Python 3",
   "language": "python",
   "name": "python3"
  },
  "language_info": {
   "codemirror_mode": {
    "name": "ipython",
    "version": 3
   },
   "file_extension": ".py",
   "mimetype": "text/x-python",
   "name": "python",
   "nbconvert_exporter": "python",
   "pygments_lexer": "ipython3",
   "version": "3.7.3rc1"
  }
 },
 "nbformat": 4,
 "nbformat_minor": 2
}
